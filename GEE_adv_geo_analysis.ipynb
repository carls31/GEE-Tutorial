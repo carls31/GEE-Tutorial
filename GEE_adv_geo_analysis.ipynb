{
 "cells": [
  {
   "attachments": {},
   "cell_type": "markdown",
   "id": "52fa22bf-45f3-45f1-99a5-093cccb5499f",
   "metadata": {
    "tags": []
   },
   "source": [
    "# Google Eart Engine for Advanced Geospatial Analisys\n",
    "### Hydrology - project assignment by L. Carlassara, A. Iseni, E. Poli @ PoliMI\n",
    "1. Import a watershed of interest as an asset.\n",
    "2. Export (i.e. download) a DEM, a mean NDVI, a mean precipitation from CHIRPS\n",
    "and a mean temperature from ERA for the watershed.\n",
    "3. Compute the forest area in the watershed with GFC hansen, compute the population\n",
    "inside with JRC settlements, compute the agricultural area using maryland product\n",
    "for agriculture."
   ]
  },
  {
   "attachments": {},
   "cell_type": "markdown",
   "id": "78dac154-735f-4c3d-aae5-0b3579b6e080",
   "metadata": {
    "tags": []
   },
   "source": [
    "Import libraries"
   ]
  },
  {
   "cell_type": "code",
   "execution_count": 1,
   "id": "ba55df59-79b0-4569-93f0-3bada3044673",
   "metadata": {},
   "outputs": [],
   "source": [
    "import geemap\n",
    "import ee"
   ]
  },
  {
   "cell_type": "markdown",
   "id": "68fd9f1f-8fbc-4ad9-9936-0168c81c9471",
   "metadata": {},
   "source": [
    "Autenthication with a Google account:"
   ]
  },
  {
   "cell_type": "code",
   "execution_count": 2,
   "id": "83c16e53-d8e9-4abd-804a-210943f28096",
   "metadata": {},
   "outputs": [
    {
     "data": {
      "text/html": [
       "<p>To authorize access needed by Earth Engine, open the following\n",
       "        URL in a web browser and follow the instructions:</p>\n",
       "        <p><a href=https://code.earthengine.google.com/client-auth?scopes=https%3A//www.googleapis.com/auth/earthengine%20https%3A//www.googleapis.com/auth/devstorage.full_control&request_id=urTexoA339HE3fwcBeltvafq-iHTzcYViRZ_AWTuDro&tc=L7e3Mioiz4AvJtXHLiD6aIjXcAckgqdQrYORtDsF7Fc&cc=Cd2sq8XdkW3k04SXYAUMZqqmLEAMuxfH3TVvB4G3h_s>https://code.earthengine.google.com/client-auth?scopes=https%3A//www.googleapis.com/auth/earthengine%20https%3A//www.googleapis.com/auth/devstorage.full_control&request_id=urTexoA339HE3fwcBeltvafq-iHTzcYViRZ_AWTuDro&tc=L7e3Mioiz4AvJtXHLiD6aIjXcAckgqdQrYORtDsF7Fc&cc=Cd2sq8XdkW3k04SXYAUMZqqmLEAMuxfH3TVvB4G3h_s</a></p>\n",
       "        <p>The authorization workflow will generate a code, which you should paste in the box below.</p>\n",
       "        "
      ],
      "text/plain": [
       "<IPython.core.display.HTML object>"
      ]
     },
     "metadata": {},
     "output_type": "display_data"
    },
    {
     "name": "stdout",
     "output_type": "stream",
     "text": [
      "\n",
      "Successfully saved authorization token.\n"
     ]
    }
   ],
   "source": [
    "ee.Authenticate()"
   ]
  },
  {
   "cell_type": "code",
   "execution_count": 3,
   "id": "cd71cf85-d26b-4708-aa2b-0bff1ffdfec2",
   "metadata": {},
   "outputs": [],
   "source": [
    "ee.Initialize()"
   ]
  },
  {
   "cell_type": "code",
   "execution_count": 4,
   "id": "58da7adb",
   "metadata": {},
   "outputs": [],
   "source": [
    "Map = geemap.Map(center=[46.07,11.12], zoom=8)"
   ]
  },
  {
   "attachments": {},
   "cell_type": "markdown",
   "id": "0006fec7",
   "metadata": {},
   "source": [
    "Upload the watershed of Adige river "
   ]
  },
  {
   "cell_type": "code",
   "execution_count": 5,
   "id": "2c6989b7",
   "metadata": {},
   "outputs": [],
   "source": [
    "wrs_shp = ee.FeatureCollection(\"projects/ee-lorenzocarlassara/assets/bacini\")\n",
    "\n",
    "wrs_adige = wrs_shp.filter(ee.Filter.eq('CODICE', 'N001'))\n",
    "aoi = wrs_adige.geometry()\n",
    "Map.addLayer(aoi)\n",
    "# period of interest\n",
    "start = '2003-03-01'\n",
    "end =   '2023-03-31'"
   ]
  },
  {
   "attachments": {},
   "cell_type": "markdown",
   "id": "82b99b90",
   "metadata": {},
   "source": [
    "### DEM\n",
    "Compute the Digital Surface Model from Copernicus DEM "
   ]
  },
  {
   "cell_type": "code",
   "execution_count": 6,
   "id": "866e111d",
   "metadata": {},
   "outputs": [],
   "source": [
    "DEM30m = ee.ImageCollection(\"COPERNICUS/DEM/GLO30\")\n",
    "\n",
    "DEM30m = DEM30m.select('DEM')\n",
    "terrain = ee.Algorithms.Terrain(DEM30m)\n",
    "slope = terrain.select('slope')\n",
    "DEM_wrs_density = {'min': 0, 'max': 4000}\n",
    "Map.addLayer(DEM30m,DEM_wrs_density,'DEM')           "
   ]
  },
  {
   "attachments": {},
   "cell_type": "markdown",
   "id": "9fb544b7",
   "metadata": {},
   "source": [
    "### NDVI\n",
    "Compute the NDVI using bands Red (B4) and Near infrared (B5) from Landsdat 8 Collection 2 Tier 1"
   ]
  },
  {
   "cell_type": "code",
   "execution_count": 7,
   "id": "7dc7166e",
   "metadata": {},
   "outputs": [],
   "source": [
    "def addNDVI(input):\n",
    "    ndvi = input.normalizedDifference(['B5', 'B4']).rename(\"ndvi\")\n",
    "    return input.addBands(ndvi)\n",
    "\n",
    "landsat_img_collection = ee.ImageCollection(\"LANDSAT/LC08/C02/T1_RT_TOA\")\n",
    "landsat_img_collection = landsat_img_collection.filterBounds(aoi).filterDate(start,end).filter(ee.Filter.lt('CLOUD_COVER_LAND',50))\n",
    "\n",
    "ndviCollection = landsat_img_collection.map(addNDVI).mean().clip(aoi)   \n",
    "ndviCollection_density = {'bands':['ndvi'], min:-1, max:1, 'palette': ['blue', 'white', 'green']}\n",
    "Map.addLayer(ndviCollection, ndviCollection_density, 'NDVI')"
   ]
  },
  {
   "attachments": {},
   "cell_type": "markdown",
   "id": "18b1ef60",
   "metadata": {},
   "source": [
    "### CHIRPS\n",
    "Compute the mean of the last 20 years **precitation** from *Climate Hazards Group InfraRed Precipitation with Station* data (CHIRPS)"
   ]
  },
  {
   "cell_type": "code",
   "execution_count": 8,
   "id": "7de20c78",
   "metadata": {},
   "outputs": [],
   "source": [
    "Rain = ee.ImageCollection(\"UCSB-CHG/CHIRPS/DAILY\")\n",
    "\n",
    "Rain20_wrs = Rain.filterDate(start,end).filterBounds(aoi)\n",
    "Rain20_wrs_mean = Rain20_wrs.mean().clip(aoi)             \n",
    "Rain20_wrs_density = {'min':1, 'max':5, 'palette': ['red','green','blue']}\n",
    "Map.addLayer(Rain20_wrs_mean,Rain20_wrs_density,'CHIRPS Precipitation')"
   ]
  },
  {
   "attachments": {},
   "cell_type": "markdown",
   "id": "e45508ff",
   "metadata": {},
   "source": [
    "### ERA5\n",
    "Compute the mean of the last 20 years **temperature** from *ECMWF atmospheric reanalysis of the global climate* (ERA5)"
   ]
  },
  {
   "cell_type": "code",
   "execution_count": 1,
   "id": "fc2e0980",
   "metadata": {},
   "outputs": [
    {
     "ename": "NameError",
     "evalue": "name 'ee' is not defined",
     "output_type": "error",
     "traceback": [
      "\u001b[1;31m---------------------------------------------------------------------------\u001b[0m",
      "\u001b[1;31mNameError\u001b[0m                                 Traceback (most recent call last)",
      "Cell \u001b[1;32mIn[1], line 1\u001b[0m\n\u001b[1;32m----> 1\u001b[0m Era5Month \u001b[39m=\u001b[39m ee\u001b[39m.\u001b[39mImageCollection(\u001b[39m\"\u001b[39m\u001b[39mECMWF/ERA5/MONTHLY\u001b[39m\u001b[39m\"\u001b[39m)\n\u001b[0;32m      3\u001b[0m Era5Temp \u001b[39m=\u001b[39m Era5Month\u001b[39m.\u001b[39mselect(\u001b[39m'\u001b[39m\u001b[39mmean_2m_air_temperature\u001b[39m\u001b[39m'\u001b[39m)\n\u001b[0;32m      4\u001b[0m Era5Temp \u001b[39m=\u001b[39m Era5Temp\u001b[39m.\u001b[39mfilterDate(start,end)\n",
      "\u001b[1;31mNameError\u001b[0m: name 'ee' is not defined"
     ]
    }
   ],
   "source": [
    "Era5Month = ee.ImageCollection(\"ECMWF/ERA5/MONTHLY\")\n",
    "\n",
    "Era5Temp = Era5Month.select('mean_2m_air_temperature')\n",
    "Era5Temp = Era5Temp.filterDate(start,end)\n",
    "Era5Temp_20y_wrs = Era5Temp.filterBounds(aoi)\n",
    "Era5Temp_20y_wrs_mean = Era5Temp_20y_wrs.mean().clip(aoi)           \n",
    "Era5Temp_density = {'min': 267, 'max': 287, 'palette': ['blue', 'purple', 'cyan', 'green', 'yellow', 'red']}\n",
    "Map.addLayer(Era5Temp_20y_wrs_mean,Era5Temp_density, 'Era5 Temperature')\n",
    "Map"
   ]
  },
  {
   "attachments": {},
   "cell_type": "markdown",
   "id": "3742c5c3",
   "metadata": {},
   "source": [
    "### Forest\n",
    "Compute the **forest area** in the watershed with the *Hansen Global Forest Change* analysis of Landsat images (GFC)"
   ]
  },
  {
   "cell_type": "code",
   "execution_count": null,
   "id": "6ff696dd",
   "metadata": {},
   "outputs": [],
   "source": [
    "gfc = ee.Image(\"UMD/hansen/global_forest_change_2021_v1_9\")\n",
    "\n",
    "treecover = gfc.select(['treecover2000'])              \n",
    "\n",
    "treecover21 = treecover.updateMask(gfc.select(['loss']).eq(0))\n",
    "\n",
    "#Map.addLayer(treecover21,{min:0, max:100},'tc21')\n",
    "\n",
    "#from tree cover (0-100) to forest cover (0-1)\n",
    "FC = treecover21.gte(10)\n",
    "#Map.addLayer(FC,{min:0, max:1},'FC')\n",
    "\n",
    "# compute the area per pixel\n",
    "FC_area = FC.multiply(ee.Image.pixelArea())\n",
    "# Sum the values of loss pixels in the watershed area.\n",
    "treecover_area = FC_area.reduceRegion(**{\n",
    "  'reducer': ee.Reducer.sum(),\n",
    "  'geometry': aoi,\n",
    "  'scale': 30,\n",
    "  'maxPixels': 1e13\n",
    "})\n",
    "# convert area to hectares\n",
    "treecover_area_ha = treecover_area.getNumber('treecover2000').divide(10000).round()"
   ]
  },
  {
   "attachments": {},
   "cell_type": "markdown",
   "id": "329765d0",
   "metadata": {},
   "source": [
    "### Population\n",
    "Compute the **population** inside the watershed with *Global Human Settlement Layers* (GHSL)"
   ]
  },
  {
   "cell_type": "code",
   "execution_count": null,
   "id": "fc8c7bbe",
   "metadata": {},
   "outputs": [],
   "source": [
    "population_count = ee.Image('JRC/GHSL/P2016/POP_GPW_GLOBE_V1/2015').clip(aoi)\n",
    "\n",
    "# Calculate the amount of exposed population\n",
    "# get GHSL projection\n",
    "GHSLprojection = population_count.projection()\n",
    "\n",
    "# Create a raster showing exposed population only using the  flood layer\n",
    "population = population_count\n",
    "\n",
    "#Sum pixel values of exposed population raster \n",
    "stats = population.reduceRegion(**{\n",
    "  'reducer': ee.Reducer.sum(),\n",
    "  'geometry': aoi,\n",
    "  'scale': 250,\n",
    "  'maxPixels':1e9 \n",
    "})\n",
    "\n",
    "# get number of people as integer\n",
    "number_pp = stats.getNumber('population_count').round()\n"
   ]
  },
  {
   "attachments": {},
   "cell_type": "markdown",
   "id": "0c445ebf",
   "metadata": {},
   "source": [
    "### Agricolture\n",
    "Compute the **agricultural area** using maryland product for agriculture by *P. Potapov - Global cropland*"
   ]
  },
  {
   "cell_type": "code",
   "execution_count": null,
   "id": "263fa388",
   "metadata": {},
   "outputs": [],
   "source": [
    "LC = ee.ImageCollection('users/potapovpeter/Global_cropland_2019').first().clip(aoi)\n",
    "  \n",
    "# Extract only cropland pixels using the classes cropland\n",
    "cropmask = LC.eq(1)\n",
    " \n",
    "cropland = LC.updateMask(cropmask)\n",
    "  \n",
    "\n",
    "# get pixel area of affected cropland layer\n",
    "crop_pixelarea = cropland.multiply(ee.Image.pixelArea()) #calcuate the area of each pixel \n",
    "\n",
    "# sum pixels of affected cropland layer\n",
    "crop_stats = crop_pixelarea.reduceRegion(**{\n",
    "  'reducer': ee.Reducer.sum(), #sum all pixels with area information                \n",
    "  'geometry': aoi,\n",
    "  'scale': 30,\n",
    "  'maxPixels': 1e9\n",
    "  })\n",
    "  \n",
    "crop_area_ha = crop_stats.getNumber('b1').divide(10000).round()"
   ]
  }
 ],
 "metadata": {
  "kernelspec": {
   "display_name": "Python 3 (ipykernel)",
   "language": "python",
   "name": "python3"
  },
  "language_info": {
   "codemirror_mode": {
    "name": "ipython",
    "version": 3
   },
   "file_extension": ".py",
   "mimetype": "text/x-python",
   "name": "python",
   "nbconvert_exporter": "python",
   "pygments_lexer": "ipython3",
   "version": "3.10.10"
  }
 },
 "nbformat": 4,
 "nbformat_minor": 5
}
